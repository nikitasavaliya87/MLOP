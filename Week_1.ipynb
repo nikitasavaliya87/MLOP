{
 "cells": [
  {
   "cell_type": "markdown",
   "id": "b0c2a18a",
   "metadata": {
    "heading_collapsed": true
   },
   "source": [
    "### Imports"
   ]
  },
  {
   "cell_type": "code",
   "execution_count": null,
   "id": "caa8815e",
   "metadata": {
    "hidden": true
   },
   "outputs": [
    {
     "ename": "",
     "evalue": "",
     "output_type": "error",
     "traceback": [
      "\u001b[1;31mRunning cells with 'python-AsOK3w3S' requires the ipykernel package.\n",
      "\u001b[1;31mRun the following command to install 'ipykernel' into the Python environment. \n",
      "\u001b[1;31mCommand: 'c:/Users/nikit/.virtualenvs/python-AsOK3w3S/Scripts/python.exe -m pip install ipykernel -U --force-reinstall'"
     ]
    }
   ],
   "source": [
    "from IPython.display import Image, display"
   ]
  },
  {
   "cell_type": "markdown",
   "id": "551af4a2",
   "metadata": {
    "heading_collapsed": true
   },
   "source": [
    "### Reality of AI in the market "
   ]
  },
  {
   "cell_type": "code",
   "execution_count": null,
   "id": "02695362",
   "metadata": {
    "hidden": true
   },
   "outputs": [
    {
     "ename": "",
     "evalue": "",
     "output_type": "error",
     "traceback": [
      "\u001b[1;31mRunning cells with 'python-AsOK3w3S' requires the ipykernel package.\n",
      "\u001b[1;31mRun the following command to install 'ipykernel' into the Python environment. \n",
      "\u001b[1;31mCommand: 'c:/Users/nikit/.virtualenvs/python-AsOK3w3S/Scripts/python.exe -m pip install ipykernel -U --force-reinstall'"
     ]
    }
   ],
   "source": [
    "file='img/Reality_of_AI_in_jobs.jpg'\n",
    "display(Image(filename=file, embed=True, width=500, height=800))"
   ]
  },
  {
   "cell_type": "markdown",
   "id": "bf014ac4",
   "metadata": {
    "hidden": true
   },
   "source": [
    "In the real world, the path to consistent value add with AI/ML in much harder than what everyone wants to believe. All 5 stages mentioned in the above diagram are critical to the success of a ML project, however, when companies find talent or tools to achieve data engineering and modeling stages, they mistake it for a functional ML driven system "
   ]
  },
  {
   "cell_type": "markdown",
   "id": "2f67a12e",
   "metadata": {
    "heading_collapsed": true,
    "tags": []
   },
   "source": [
    "### 1. Introduction <a name=\"introduction\"></a>"
   ]
  },
  {
   "cell_type": "markdown",
   "id": "f966fa68",
   "metadata": {
    "hidden": true,
    "tags": []
   },
   "source": [
    "In this Jupyter notebook, we will explore the Machine Learning Lifecycle, a step-by-step guide to building and deploying machine learning models. Additionally, we will introduce the concept of version control using GitHub, a popular platform for managing and collaborating on code. Whether you're new to machine learning or version control, this notebook will provide a comprehensive introduction."
   ]
  },
  {
   "cell_type": "markdown",
   "id": "8b339a9f",
   "metadata": {
    "heading_collapsed": true,
    "hidden": true
   },
   "source": [
    "#### Standard ML cycle"
   ]
  },
  {
   "cell_type": "code",
   "execution_count": null,
   "id": "c0fcaab8",
   "metadata": {
    "hidden": true
   },
   "outputs": [
    {
     "ename": "",
     "evalue": "",
     "output_type": "error",
     "traceback": [
      "\u001b[1;31mRunning cells with 'python-AsOK3w3S' requires the ipykernel package.\n",
      "\u001b[1;31mRun the following command to install 'ipykernel' into the Python environment. \n",
      "\u001b[1;31mCommand: 'c:/Users/nikit/.virtualenvs/python-AsOK3w3S/Scripts/python.exe -m pip install ipykernel -U --force-reinstall'"
     ]
    }
   ],
   "source": [
    "file='img/lifecycle.png'\n",
    "display(Image(filename=file, embed=True, width=1000, height=500))"
   ]
  },
  {
   "cell_type": "markdown",
   "id": "1c842fb3",
   "metadata": {
    "hidden": true
   },
   "source": [
    "#### What is DevOps"
   ]
  },
  {
   "cell_type": "code",
   "execution_count": null,
   "id": "932a5fed",
   "metadata": {
    "hidden": true
   },
   "outputs": [
    {
     "ename": "",
     "evalue": "",
     "output_type": "error",
     "traceback": [
      "\u001b[1;31mRunning cells with 'python-AsOK3w3S' requires the ipykernel package.\n",
      "\u001b[1;31mRun the following command to install 'ipykernel' into the Python environment. \n",
      "\u001b[1;31mCommand: 'c:/Users/nikit/.virtualenvs/python-AsOK3w3S/Scripts/python.exe -m pip install ipykernel -U --force-reinstall'"
     ]
    }
   ],
   "source": [
    "file='./img/what-is-devops.jpg'\n",
    "display(Image(filename=file, embed=True, width=700, height=600))"
   ]
  },
  {
   "cell_type": "markdown",
   "id": "6daa51b6",
   "metadata": {
    "hidden": true
   },
   "source": [
    "#### What is MLOps?"
   ]
  },
  {
   "cell_type": "markdown",
   "id": "13c4c947",
   "metadata": {
    "hidden": true
   },
   "source": [
    "MLOps is a methodology of operation that aims to facilitate the process of bringing an __experimental Machine Learning model into production and maintaining it efficiently__. MLOps focus on bringing the methodology of __DevOps__ used in the software industry to the __Machine Learning model lifecycle__. "
   ]
  },
  {
   "cell_type": "code",
   "execution_count": null,
   "id": "1ad29ecf",
   "metadata": {
    "hidden": true
   },
   "outputs": [
    {
     "ename": "",
     "evalue": "",
     "output_type": "error",
     "traceback": [
      "\u001b[1;31mRunning cells with 'python-AsOK3w3S' requires the ipykernel package.\n",
      "\u001b[1;31mRun the following command to install 'ipykernel' into the Python environment. \n",
      "\u001b[1;31mCommand: 'c:/Users/nikit/.virtualenvs/python-AsOK3w3S/Scripts/python.exe -m pip install ipykernel -U --force-reinstall'"
     ]
    }
   ],
   "source": [
    "file='./img/what-is-mlops.png'\n",
    "display(Image(filename=file, embed=True, width=700, height=600))"
   ]
  },
  {
   "cell_type": "markdown",
   "id": "38f0d4ac",
   "metadata": {
    "hidden": true
   },
   "source": [
    "In that way we can define some of the main features of a MLOPs project:\n",
    "\n",
    "1. Data and Model Versioning\n",
    "2. Feature Management and Storing\n",
    "3. Automation of Pipelines and Processes\n",
    "4. CI/CD for Machine Learning\n",
    "5. Continuous Monitoring of Models"
   ]
  },
  {
   "cell_type": "markdown",
   "id": "bcff4616",
   "metadata": {
    "heading_collapsed": true,
    "hidden": true
   },
   "source": [
    "#### Who is a MLOps engineer"
   ]
  },
  {
   "cell_type": "code",
   "execution_count": null,
   "id": "d44eb44a",
   "metadata": {
    "hidden": true
   },
   "outputs": [
    {
     "ename": "",
     "evalue": "",
     "output_type": "error",
     "traceback": [
      "\u001b[1;31mRunning cells with 'python-AsOK3w3S' requires the ipykernel package.\n",
      "\u001b[1;31mRun the following command to install 'ipykernel' into the Python environment. \n",
      "\u001b[1;31mCommand: 'c:/Users/nikit/.virtualenvs/python-AsOK3w3S/Scripts/python.exe -m pip install ipykernel -U --force-reinstall'"
     ]
    }
   ],
   "source": [
    "file='./img/MLOPs_engineer.jpg'\n",
    "display(Image(filename=file, embed=True, width=700, height=600))"
   ]
  },
  {
   "cell_type": "markdown",
   "id": "5400e9ad",
   "metadata": {
    "hidden": true
   },
   "source": [
    "---"
   ]
  },
  {
   "cell_type": "markdown",
   "id": "5da3ea8b",
   "metadata": {
    "heading_collapsed": true,
    "tags": []
   },
   "source": [
    "### 2. Machine Learning Lifecycle <a name=\"machine-learning-lifecycle\"></a>"
   ]
  },
  {
   "cell_type": "markdown",
   "id": "de08b6cc",
   "metadata": {
    "hidden": true
   },
   "source": [
    "Machine learning projects typically follow a structured lifecycle, which consists of the following phases:\n",
    "\n",
    "#### Assignment (Crash course)"
   ]
  },
  {
   "cell_type": "markdown",
   "id": "8550ea2f",
   "metadata": {
    "heading_collapsed": true,
    "hidden": true,
    "tags": []
   },
   "source": [
    "#### 2.1. Problem Definition <a name=\"problem-definition\"></a>"
   ]
  },
  {
   "cell_type": "markdown",
   "id": "27a93e59",
   "metadata": {
    "hidden": true,
    "tags": []
   },
   "source": [
    "__\"If you don't know where you're going, any road will take you there.\" - Cheshire Cat (Alice in Wonderland)__\n",
    "\n",
    "In the world of machine learning, the journey begins with a well-defined problem. The problem definition stage is like setting your GPS coordinates before embarking on a road trip. Without a clear destination, you're just wandering.\n",
    "\n",
    "Why Problem Definition Matters-\n",
    "    \n",
    "1. __Understanding the Problem Domain__: Before diving into data and algorithms, you need to grasp the domain in which your problem resides. Whether it's healthcare, finance, or image recognition, domain knowledge is crucial.\n",
    "\n",
    "2. __Identifying the Target Audience__: You need to know who will benefit from your solution. Is it a recommendation system for movie enthusiasts, a fraud detection model for banks, or an image classifier for biologists?\n",
    "\n",
    "3. __Specifying the Goals__: What do you want to achieve? Are you building a model to predict customer churn, classify diseases, or generate art? Your goals should be specific, measurable, achievable, relevant, and time-bound (SMART).\n",
    "    \n",
    "---    \n",
    "_Example_: Predicting Customer Churn\n",
    "Let's take a real-world example: a telecom company wants to reduce customer churn (customers leaving for competitors). The problem definition might look like this:\n",
    "\n",
    "_Problem_: Predict customer churn for a telecom company.\n",
    "\n",
    "_Domain_: Telecommunications\n",
    "\n",
    "_Target Audience_: Telecom company management\n",
    "\n",
    "_Goals_: Build a machine learning model that can predict customer churn with at least 80% accuracy within the next three months.\n",
    "\n",
    "Now, the team knows exactly what they're aiming for. They are ready to move on to the next stages of the machine learning lifecycle."
   ]
  },
  {
   "cell_type": "markdown",
   "id": "bedc49f7",
   "metadata": {
    "heading_collapsed": true,
    "hidden": true,
    "tags": []
   },
   "source": [
    "#### 2.2. Data Collection <a name=\"data-collection\"></a>"
   ]
  },
  {
   "cell_type": "markdown",
   "id": "6d3963b6",
   "metadata": {
    "hidden": true,
    "tags": []
   },
   "source": [
    "In the realm of machine learning, data is the raw material that fuels the creation and training of models. Without data, you have nothing to work with. In this phase, we focus on the essential process of gathering and acquiring the data required to train and test our machine learning model. Data can originate from diverse sources, such as databases, APIs, or specific data collection procedures.\n",
    "\n",
    "### Why Data Collection Matters\n",
    "\n",
    "Data collection is a critical phase in the machine learning lifecycle. The importance of this stage lies in the following aspects:\n",
    "\n",
    "1. **Quality Inputs, Quality Outputs:** The accuracy and effectiveness of your model's predictions are directly linked to the quality of the data you use. If you start with poor-quality data, your model's predictions are likely to be unreliable.\n",
    "\n",
    "2. **Data Sources:** Identifying the sources of your data is key. Data can be obtained from a wide array of places, including databases storing historical records, web APIs providing real-time information, or data collected directly through sensors and surveys.\n",
    "\n",
    "3. **Data Volume and Diversity:** Adequate data is essential for training and testing your model. The data you gather should represent diverse scenarios and encompass a variety of situations to ensure your model's generalizability.\n",
    "\n",
    "### Example: Data Collection for Customer Churn Prediction\n",
    "\n",
    "Let's consider a practical example. Imagine you are working on a machine learning project to predict customer churn for a telecom company. The data you need may come from various sources within the company, such as customer records, call logs, and service usage statistics. This data could include information such as customer demographics, service plans, contract lengths, and call duration. Your objective is to gather all this relevant data for your project.\n",
    "\n",
    "In Python, you can use the popular `pandas` library to load and manipulate your data.\n",
    "\n",
    "**NOTE** - It will be great if you practice with `Dask` and `Polars` along with Pandas, both these libraries extend pandas to handle distributed filesystem making it less memory dependent while offering similar usability at scale"
   ]
  },
  {
   "cell_type": "markdown",
   "id": "0bcaf574",
   "metadata": {
    "heading_collapsed": true,
    "hidden": true,
    "tags": []
   },
   "source": [
    "#### 2.3. Data Preprocessing <a name=\"data-preprocessing\"></a>"
   ]
  },
  {
   "cell_type": "markdown",
   "id": "1afcd3f5",
   "metadata": {
    "hidden": true,
    "tags": []
   },
   "source": [
    "\n",
    "Data preprocessing is an indispensable phase in the machine learning lifecycle. In this step, you perform several essential tasks to ensure that your data is clean, well-structured, and ready for model training. Data preprocessing involves operations like cleaning, transformation, and preparation of the data to make it suitable for feeding into machine learning models. Common tasks in data preprocessing include handling missing values, scaling features, and encoding categorical variables.\n",
    "\n",
    "### Why Data Preprocessing Matters\n",
    "\n",
    "Data preprocessing plays a pivotal role for the following reasons:\n",
    "\n",
    "1. **Quality Assurance:** Clean and well-processed data leads to a more accurate and reliable model. Data inconsistencies or missing values can lead to skewed results or model errors.\n",
    "\n",
    "2. **Model Compatibility:** Different machine learning algorithms have specific data requirements. Data preprocessing ensures that your data is compatible with the chosen algorithm.\n",
    "\n",
    "3. **Improved Efficiency:** Preprocessing can reduce the time and resources needed for model training and improve the model's overall performance.\n",
    "\n",
    "### Data Preprocessing Techniques\n",
    "\n",
    "1. **Handling Missing Values:** Data may have missing values, and these gaps need to be addressed. Common techniques include filling missing values with averages, medians, or zeros.\n",
    "\n",
    "2. **Scaling Features:** Features often have varying scales. Scaling, such as normalization or standardization, is used to bring features to a common scale, preventing some features from dominating others.\n",
    "\n",
    "3. **Encoding Categorical Variables:** Many machine learning algorithms require numerical input, so categorical variables (like \"Red,\" \"Green,\" \"Blue\") need to be converted into numerical representations. Common methods include one-hot encoding and label encoding.\n",
    "\n",
    "### Example: Handling Missing Values\n",
    "\n",
    "Let's take an example where you have a dataset with missing values, and you want to fill those missing values with the mean value of the respective column using Python and the `pandas` library:\n",
    "\n",
    "```\n",
    "import pandas as pd\n",
    "\n",
    "# Load the dataset\n",
    "data = pd.read_csv('data_with_missing_values.csv')\n",
    "\n",
    "# Fill missing values with the mean\n",
    "data.fillna(data.mean(), inplace=True)\n",
    "```"
   ]
  },
  {
   "cell_type": "markdown",
   "id": "f2dedb14",
   "metadata": {
    "heading_collapsed": true,
    "hidden": true,
    "tags": []
   },
   "source": [
    "#### 2.4. Model Building <a name=\"model-building\"></a>"
   ]
  },
  {
   "cell_type": "markdown",
   "id": "82f4610a",
   "metadata": {
    "hidden": true,
    "tags": []
   },
   "source": [
    "The model building phase is a pivotal step in the machine learning process. Here, you move from data preparation to constructing the actual machine learning model. This phase involves choosing the appropriate machine learning algorithm, defining the model's architecture, and configuring its hyperparameters.\n",
    "\n",
    "### Why Model Building Matters\n",
    "\n",
    "The significance of the model building phase can be summarized as follows:\n",
    "\n",
    "1. **Algorithm Selection:** The choice of the right machine learning algorithm is critical. The performance of your model hinges on selecting an algorithm that aligns with the nature of your data and the specific problem you are trying to solve.\n",
    "\n",
    "2. **Model Architecture:** Designing the architecture of your model entails determining the number of layers, nodes, and connections for neural networks or setting parameters for other algorithm types.\n",
    "\n",
    "3. **Hyperparameter Tuning:** Hyperparameters are settings that influence how your model learns. Finding the optimal combination of hyperparameters is essential for achieving peak model performance.\n",
    "\n",
    "### Algorithm Selection\n",
    "\n",
    "Your selection of a machine learning algorithm depends on the problem type:\n",
    "\n",
    "- **Regression:** For regression tasks, where the goal is to predict a continuous value, algorithms like Linear Regression, Decision Trees, or Random Forests are commonly employed.\n",
    "\n",
    "- **Classification:** In classification problems, where data must be assigned to predefined categories, options include Logistic Regression, Support Vector Machines, and Neural Networks.\n",
    "\n",
    "- **Clustering:** Clustering algorithms like K-Means or DBSCAN are used for unsupervised learning tasks.\n",
    "\n",
    "### Model Architecture and Hyperparameters\n",
    "\n",
    "For neural networks and deep learning models, careful consideration is required for model architecture and hyperparameters:\n",
    "\n",
    "- **Architecture:** You must determine the number of layers, neurons in each layer, activation functions, and connections between layers.\n",
    "\n",
    "- **Hyperparameters:** Choices include learning rates, batch sizes, regularization terms, and other parameters that impact the training process.\n",
    "\n",
    "### Example: Building a Random Forest Classifier\n",
    "\n",
    "Here's an example of building a Random Forest Classifier in Python using the `scikit-learn` library:\n",
    "\n",
    "```\n",
    "from sklearn.ensemble import RandomForestClassifier\n",
    "\n",
    "# Create a Random Forest Classifier\n",
    "model = RandomForestClassifier(n_estimators=100, max_depth=10, random_state=0)\n",
    "\n",
    "# Fit the model to your training data\n",
    "model.fit(X_train, y_train)\n",
    "```\n",
    "\n",
    "In this example, a Random Forest Classifier is created with specified hyperparameters such as the number of trees in the forest (n_estimators) and the maximum depth of the trees (max_depth). The model is then trained on the provided training data.\n",
    "\n",
    "Model building is where your problem-solving skills, domain knowledge, and understanding of machine learning algorithms come into play. It's a critical phase that sets the stage for the subsequent steps in the machine learning lifecycle."
   ]
  },
  {
   "cell_type": "markdown",
   "id": "ab42078c",
   "metadata": {
    "heading_collapsed": true,
    "hidden": true,
    "tags": []
   },
   "source": [
    "#### 2.5. Model Training <a name=\"model-training\"></a>"
   ]
  },
  {
   "cell_type": "markdown",
   "id": "08580eb1",
   "metadata": {
    "hidden": true,
    "tags": []
   },
   "source": [
    "\n",
    "The model training phase is a pivotal step in the machine learning lifecycle, where you put your preprocessed data to work. In this stage, you feed your data into the chosen machine learning model, adjust its parameters, and fine-tune it to minimize errors and enhance the accuracy of its predictions.\n",
    "\n",
    "### Why Model Training Matters\n",
    "\n",
    "Model training is a critical phase for the following reasons:\n",
    "\n",
    "1. **Learning from Data:** During training, the model learns to make predictions by recognizing patterns in the data. It optimizes its internal parameters to make accurate predictions on unseen data.\n",
    "\n",
    "2. **Minimizing Errors:** The goal is to reduce the discrepancy between the model's predictions and the actual outcomes. Model training is all about iteratively minimizing errors and improving prediction accuracy.\n",
    "\n",
    "3. **Generalization:** A well-trained model can generalize its knowledge to make predictions on new, unseen data. Generalization is a key criterion for model success.\n",
    "\n",
    "### The Training Process\n",
    "\n",
    "The training process typically involves the following steps:\n",
    "\n",
    "1. **Data Splitting:** Your data is divided into two parts: a training set and a testing/validation set. The training set is used to teach the model, while the testing set evaluates the model's performance.\n",
    "\n",
    "2. **Initialization:** The model's parameters are initialized, and the training process begins.\n",
    "\n",
    "3. **Forward and Backward Passes:** During each training iteration, the model makes predictions (forward pass), calculates the error, and adjusts its internal parameters (backward pass) to reduce the error.\n",
    "\n",
    "4. **Iterative Optimization:** The model goes through multiple iterations, continually adjusting its parameters to minimize errors.\n",
    "\n",
    "5. **Validation:** The model's performance is evaluated on the testing/validation set to ensure it's not overfitting the training data.\n",
    "\n",
    "### Example: Training a Neural Network\n",
    "\n",
    "Here's a simplified example of training a neural network using the popular deep learning library, TensorFlow, and Keras:\n",
    "\n",
    "```\n",
    "import tensorflow as tf\n",
    "from tensorflow import keras\n",
    "\n",
    "# Define the neural network architecture\n",
    "model = keras.Sequential([\n",
    "    keras.layers.Dense(64, activation='relu', input_shape=(10,)),\n",
    "    keras.layers.Dense(32, activation='relu'),\n",
    "    keras.layers.Dense(1, activation='sigmoid')\n",
    "])\n",
    "\n",
    "# Compile the model\n",
    "model.compile(optimizer='adam', loss='binary_crossentropy', metrics=['accuracy'])\n",
    "\n",
    "# Train the model\n",
    "model.fit(X_train, y_train, epochs=10, batch_size=32, validation_data=(X_val, y_val))\n",
    "```\n",
    "\n",
    "In this example, a neural network is defined with its architecture, compiled with the choice of optimizer and loss function, and then trained on the training data for a specified number of epochs.\n",
    "\n",
    "Model training is where your machine learning model truly learns to make predictions. The iterative optimization process is crucial for achieving accuracy and generalization."
   ]
  },
  {
   "cell_type": "markdown",
   "id": "c878b757",
   "metadata": {
    "heading_collapsed": true,
    "hidden": true,
    "tags": []
   },
   "source": [
    "#### 2.6. Model Evaluation <a name=\"model-evaluation\"></a>"
   ]
  },
  {
   "cell_type": "markdown",
   "id": "44dcdfa8",
   "metadata": {
    "hidden": true,
    "tags": []
   },
   "source": [
    "Model evaluation is a critical phase in the machine learning lifecycle that comes after your model has been trained. During this stage, you assess your model's performance to understand how well it's performing on unseen data. Model evaluation involves the use of various metrics to gauge accuracy, precision, recall, F1-score, and more.\n",
    "\n",
    "### Why Model Evaluation Matters\n",
    "\n",
    "Model evaluation is indispensable for several reasons:\n",
    "\n",
    "1. **Performance Assessment:** You need to determine how well your model is doing in real-world scenarios. Model evaluation provides insights into its effectiveness and reliability.\n",
    "\n",
    "2. **Comparison:** Evaluation metrics allow you to compare different models or variations of the same model to select the best-performing one.\n",
    "\n",
    "3. **Decision Making:** The results of model evaluation often guide decision-making processes. For instance, in healthcare, it may impact patient treatment plans, while in finance, it can influence investment decisions.\n",
    "\n",
    "### Common Evaluation Metrics\n",
    "\n",
    "Several metrics are commonly used to evaluate machine learning models:\n",
    "\n",
    "- **Accuracy:** Measures the overall correctness of predictions.\n",
    "- **Precision:** Evaluates the percentage of true positive predictions among all positive predictions made by the model.\n",
    "- **Recall (Sensitivity):** Measures the proportion of actual positive cases that were correctly identified by the model.\n",
    "- **F1-Score:** Harmonic mean of precision and recall, providing a balance between the two.\n",
    "- **Confusion Matrix:** A table that describes the model's performance, showing true positives, true negatives, false positives, and false negatives.\n",
    "\n",
    "### Example: Model Evaluation\n",
    "\n",
    "Let's consider an example where you have trained a binary classification model to predict whether an email is spam or not. After training, you evaluate its performance using common metrics. In Python, you can use libraries like `scikit-learn` to calculate these metrics:\n",
    "\n",
    "```\n",
    "from sklearn.metrics import accuracy_score, precision_score, recall_score, f1_score, confusion_matrix\n",
    "\n",
    "# Make predictions on the test data\n",
    "y_pred = model.predict(X_test)\n",
    "\n",
    "# Calculate evaluation metrics\n",
    "accuracy = accuracy_score(y_test, y_pred)\n",
    "precision = precision_score(y_test, y_pred)\n",
    "recall = recall_score(y_test, y_pred)\n",
    "f1 = f1_score(y_test, y_pred)\n",
    "confusion = confusion_matrix(y_test, y_pred)\n",
    "```\n",
    "Model evaluation allows you to gauge the strengths and weaknesses of your model and make informed decisions about its deployment and further optimization."
   ]
  },
  {
   "cell_type": "markdown",
   "id": "78334b16",
   "metadata": {
    "heading_collapsed": true,
    "hidden": true,
    "tags": []
   },
   "source": [
    "#### 2.7. Model Deployment <a name=\"model-deployment\"></a>"
   ]
  },
  {
   "cell_type": "markdown",
   "id": "29833575-18cc-481a-a834-83453d200ddb",
   "metadata": {
    "hidden": true,
    "tags": []
   },
   "source": [
    "Model deployment is the final and crucial phase in the machine learning lifecycle. It marks the transition from a successful model trained on historical data to a real-world solution that makes predictions on new, unseen data. This phase requires careful planning, implementation, and considerations for scalability and monitoring.\n",
    "\n",
    "### Why Model Deployment Matters\n",
    "\n",
    "Model deployment holds significant importance for several reasons:\n",
    "\n",
    "1. **Real-World Application:** Deploying a model means putting it to practical use. It can have real-world impacts, such as helping doctors diagnose diseases, assisting in autonomous driving, or powering recommendation systems for online shopping.\n",
    "\n",
    "2. **Return on Investment:** The value of a machine learning model is realized when it is deployed. It can lead to cost savings, revenue generation, or process optimization.\n",
    "\n",
    "3. **Monitoring and Adaptation:** Deployed models need ongoing monitoring to ensure they continue to perform well. Changes in the data distribution or model drift might necessitate adaptations to maintain accuracy.\n",
    "\n",
    "### The Deployment Process\n",
    "\n",
    "The model deployment process can be summarized as follows:\n",
    "\n",
    "1. **Environment Setup:** Create a production environment suitable for running the model. This may involve setting up servers, cloud infrastructure, or edge devices.\n",
    "\n",
    "2. **Model Packaging:** Prepare the model for deployment by saving its architecture, weights, and preprocessing steps.\n",
    "\n",
    "3. **Scalability:** Consider the scalability of the deployed model to handle varying workloads and user demand. This may involve deploying multiple instances of the model or using load balancing.\n",
    "\n",
    "4. **Monitoring:** Implement a monitoring system to keep an eye on the model's performance. Detect model drift, changes in data distribution, and any decrease in prediction accuracy.\n",
    "\n",
    "5. **Feedback Loop:** Create a feedback loop to collect user feedback and actual outcomes. This information can be used to retrain the model and improve its performance.\n",
    "\n",
    "### Example: Deploying a Predictive Maintenance Model\n",
    "\n",
    "Imagine you've trained a predictive maintenance model to forecast when industrial machines need maintenance to prevent breakdowns. After thorough evaluation, you decide to deploy the model in a factory environment. The deployment process would involve setting up servers in the factory, packaging the model for deployment, and monitoring its performance. Additionally, you'd implement a feedback loop to incorporate user feedback and data from the machines to continuously improve the model.\n",
    "\n",
    "Model deployment is the stage where machine learning moves from a research or development context to a practical solution with real-world impact. Careful planning and ongoing monitoring are essential for success.\n",
    "\n"
   ]
  },
  {
   "cell_type": "markdown",
   "id": "fb0a2c67",
   "metadata": {
    "hidden": true
   },
   "source": [
    "----"
   ]
  },
  {
   "cell_type": "markdown",
   "id": "1e1be99c",
   "metadata": {
    "heading_collapsed": true,
    "tags": []
   },
   "source": [
    "### 3. Introduction to Version Control <a name=\"introduction-to-version-control\"></a>"
   ]
  },
  {
   "cell_type": "markdown",
   "id": "4f1e749d",
   "metadata": {
    "hidden": true,
    "tags": []
   },
   "source": [
    "Version control is a fundamental and indispensable system that underpins the development and maintenance of software projects. It provides a structured and efficient way to track and manage changes made to your codebase over time. Whether you are working solo or collaborating with a team, version control offers a range of benefits that enhance the quality and reliability of your software.\n",
    "\n",
    "### Key Aspects of Version Control\n",
    "\n",
    "Version control systems (VCS) encompass several key aspects:\n",
    "\n",
    "1. **Change Tracking:** Version control allows you to monitor every alteration made to your codebase, no matter how small. Each change, or \"commit,\" is documented and timestamped, creating a detailed history of your project's evolution.\n",
    "\n",
    "2. **Collaboration:** VCS enables seamless collaboration among developers. Multiple team members can work on the same project concurrently, with the ability to merge their changes systematically.\n",
    "\n",
    "3. **Reversion:** Inevitably, mistakes or unforeseen issues can arise during development. Version control makes it possible to revert to a previous state of the project, helping you recover from errors or bugs.\n",
    "\n",
    "4. **Branching:** VCS allows the creation of branches, which are independent lines of development. This is particularly useful for parallel work on different features or bug fixes without interfering with the main project.\n",
    "\n",
    "5. **Documentation:** Detailed commit messages and comments accompany each change, providing context and insight into the reasons behind the modifications. This documentation is invaluable for project maintenance and knowledge sharing.\n",
    "\n",
    "### Types of Version Control Systems\n",
    "\n",
    "There are two primary categories of version control systems:\n",
    "\n",
    "1. **Centralized Version Control Systems (CVCS):** In a CVCS, there is a central repository that stores the entire history and current state of the project. Developers can check out files, make changes, and commit them back to the central repository.\n",
    "\n",
    "2. **Distributed Version Control Systems (DVCS):** DVCS systems like Git provide each developer with a complete copy of the project, including its entire history. This decentralization offers more flexibility, independence, and a distributed workflow.\n",
    "\n",
    "### Example: Using Git for Version Control\n",
    "\n",
    "Git is one of the most popular distributed version control systems. Here is a basic workflow example:\n",
    "\n",
    "1. **Initialization:** Start a Git repository by running `git init` in your project directory.\n",
    "\n",
    "2. **Adding Files:** Stage your files with `git add` to include them in the next commit.\n",
    "\n",
    "3. **Committing:** Create a snapshot of your project with `git commit -m \"Your commit message\"`.\n",
    "\n",
    "4. **Branching:** Create a new branch with `git branch`, switch to it with `git checkout`, and merge it with the main branch when your feature is complete.\n",
    "\n",
    "5. **Collaboration:** Push your changes to a remote repository, and others can clone and collaborate on your project.\n",
    "\n",
    "Version control systems like Git play a pivotal role in software development, helping teams collaborate efficiently, track changes, and manage the software's evolution over time."
   ]
  },
  {
   "cell_type": "markdown",
   "id": "d0ffe7c1",
   "metadata": {
    "hidden": true
   },
   "source": [
    "#### TODO: Provide installation details for miniconda for students."
   ]
  },
  {
   "cell_type": "markdown",
   "id": "6b898a69",
   "metadata": {
    "heading_collapsed": true,
    "tags": []
   },
   "source": [
    "### 4. Using GitHub for Version Control <a name=\"using-github\"></a>"
   ]
  },
  {
   "cell_type": "markdown",
   "id": "7de69dc9",
   "metadata": {
    "heading_collapsed": true,
    "hidden": true
   },
   "source": [
    "#### 1. What is GitHub?"
   ]
  },
  {
   "cell_type": "markdown",
   "id": "baadc83f",
   "metadata": {
    "hidden": true
   },
   "source": [
    "GitHub is a web-based platform for version control and collaboration. It allows developers to work on projects, track changes, and collaborate with others efficiently. GitHub uses Git, a distributed version control system, as its underlying technology."
   ]
  },
  {
   "cell_type": "markdown",
   "id": "228c2d21",
   "metadata": {
    "heading_collapsed": true,
    "hidden": true
   },
   "source": [
    "#### 2. Setting Up GitHub"
   ]
  },
  {
   "cell_type": "markdown",
   "id": "1e01b59f",
   "metadata": {
    "hidden": true
   },
   "source": [
    "Before you get started with GitHub, you need to create an account. Visit [GitHub](https://github.com/) and sign up for a free account if you don't already have one."
   ]
  },
  {
   "cell_type": "markdown",
   "id": "4e396d24",
   "metadata": {
    "heading_collapsed": true,
    "hidden": true
   },
   "source": [
    "#### 3. Creating a Repository"
   ]
  },
  {
   "cell_type": "markdown",
   "id": "86b0c7ee",
   "metadata": {
    "hidden": true
   },
   "source": [
    "A repository, or \"repo\" for short, is where your project and its files are stored. To create a new repository:\n",
    "\n",
    "- Log in to GitHub.\n",
    "- Click the **+** sign in the top right corner and select **New repository**.\n",
    "- Enter a name for your repository.\n",
    "- Choose between a public or private repository. Public repositories are visible to everyone, while private repositories are only visible to you and collaborators.\n",
    "- Optionally, select the option to initialize the repository with a README file, which can serve as documentation for your project.\n",
    "- Click **Create repository**."
   ]
  },
  {
   "cell_type": "markdown",
   "id": "91d386d6",
   "metadata": {
    "heading_collapsed": true,
    "hidden": true
   },
   "source": [
    "#### 4. Cloning a Repository"
   ]
  },
  {
   "cell_type": "markdown",
   "id": "2d8cad1e",
   "metadata": {
    "hidden": true
   },
   "source": [
    "Cloning a repository means creating a local copy on your computer to work with. To clone a repository:\n",
    "\n",
    "- Go to the repository you want to clone on GitHub.\n",
    "- Click the **Code** button, and copy the URL.\n",
    "- Open your terminal or command prompt.\n",
    "- Navigate to the directory where you want to clone the repository.\n",
    "- Run the following command to clone the repository:\n",
    "```\n",
    "git clone <repository_URL>\n",
    "```"
   ]
  },
  {
   "cell_type": "markdown",
   "id": "7a5df916",
   "metadata": {
    "heading_collapsed": true,
    "hidden": true
   },
   "source": [
    "#### 5. Making Changes"
   ]
  },
  {
   "cell_type": "markdown",
   "id": "fb272903",
   "metadata": {
    "hidden": true
   },
   "source": [
    "Once you have the repository on your computer, you can make changes to the files inside. Use your preferred code editor to make modifications.\n",
    "\n",
    "**NOTE** - I suggest using VS Code for your projects. I find it fast, reliable and extendable."
   ]
  },
  {
   "cell_type": "markdown",
   "id": "2ab4bca0",
   "metadata": {
    "heading_collapsed": true,
    "hidden": true
   },
   "source": [
    "#### 6. Committing Changes"
   ]
  },
  {
   "cell_type": "markdown",
   "id": "836f523c",
   "metadata": {
    "hidden": true
   },
   "source": [
    "After making changes, you need to commit them to your local repository. This is like taking a snapshot of your changes. Use the following commands:\n",
    "\n",
    "- To stage your changes:\n",
    "```\n",
    "git add .\n",
    "```\n",
    "- To commit your changes:\n",
    "```\n",
    "git commit -m \"Your commit message\"\n",
    "```"
   ]
  },
  {
   "cell_type": "markdown",
   "id": "ba728731",
   "metadata": {
    "heading_collapsed": true,
    "hidden": true
   },
   "source": [
    "#### 7. Pushing Changes"
   ]
  },
  {
   "cell_type": "markdown",
   "id": "d6a59119",
   "metadata": {
    "hidden": true
   },
   "source": [
    "- To send your local commits to the GitHub repository, use the following command:\n",
    "```\n",
    "git push origin <branch_name>\n",
    "```"
   ]
  },
  {
   "cell_type": "markdown",
   "id": "2f63a1b8",
   "metadata": {
    "heading_collapsed": true,
    "hidden": true
   },
   "source": [
    "#### 8. Branching"
   ]
  },
  {
   "cell_type": "markdown",
   "id": "bbd084b0",
   "metadata": {
    "hidden": true
   },
   "source": [
    "Branches allow you to work on different features or bug fixes without affecting the main project. To create a new branch:\n",
    "\n",
    "- Create a branch:\n",
    "```\n",
    "git branch <new_branch_name>\n",
    "```\n",
    "- Switch to the new branch:\n",
    "```\n",
    "git checkout <new_branch_name>\n",
    "```"
   ]
  },
  {
   "cell_type": "markdown",
   "id": "81995060",
   "metadata": {
    "heading_collapsed": true,
    "hidden": true
   },
   "source": [
    "#### 9. Pull Requests"
   ]
  },
  {
   "cell_type": "markdown",
   "id": "d58f1488",
   "metadata": {
    "hidden": true
   },
   "source": [
    "When you're ready to merge your changes into the main project, you create a pull request (PR). To create a PR:\n",
    "\n",
    "- Go to the repository on GitHub.\n",
    "- Click the **Pull requests** tab.\n",
    "- Click the **New pull request** button.\n",
    "- Select the branches you want to compare.\n",
    "- Write a description and click **Create pull request**."
   ]
  },
  {
   "cell_type": "markdown",
   "id": "ec178be5",
   "metadata": {
    "heading_collapsed": true,
    "hidden": true
   },
   "source": [
    "#### 10. Collaborating with Others"
   ]
  },
  {
   "cell_type": "markdown",
   "id": "669573d2",
   "metadata": {
    "hidden": true
   },
   "source": [
    "GitHub is excellent for collaborating with others. You can invite collaborators to your repository, and they can work on the same project. It's important to follow the same procedures for making changes, committing, pushing, and creating pull requests."
   ]
  },
  {
   "cell_type": "markdown",
   "id": "3df62978",
   "metadata": {
    "heading_collapsed": true
   },
   "source": [
    "### **Assignment: GitHub Fundamentals Assessment**"
   ]
  },
  {
   "cell_type": "markdown",
   "id": "5be52431",
   "metadata": {
    "hidden": true
   },
   "source": [
    "**Assignment Overview:**\n",
    "In this assignment, you will demonstrate your understanding of the basic concepts and commands for using GitHub. You will be required to perform various tasks related to GitHub, including creating a repository, making changes, committing, branching, and collaborating with others.\n",
    "\n",
    "**Instructions:**\n",
    "1. **Create a GitHub Account:**\n",
    "   If you don't already have a GitHub account, sign up for a free account at [GitHub](https://github.com/).\n",
    "\n",
    "2. **Repository Creation:**\n",
    "   - Create a new public repository on GitHub. Name it \"GitHubAssignment.\"\n",
    "\n",
    "3. **Cloning the Repository:**\n",
    "   - Clone the \"GitHubAssignment\" repository to your local computer using the provided URL.\n",
    "\n",
    "4. **Making Changes:**\n",
    "   - Inside the cloned repository, create a new text file named \"my_changes.txt.\"\n",
    "   - Add any text content to \"my_changes.txt.\"\n",
    "\n",
    "5. **Committing Changes:**\n",
    "   - Stage your changes.\n",
    "   - Commit the changes with a meaningful commit message.\n",
    "\n",
    "6. **Pushing Changes:**\n",
    "   - Push your committed changes to the GitHub repository.\n",
    "\n",
    "7. **Branching:**\n",
    "   - Create a new branch in the repository. Name it \"feature-branch.\"\n",
    "\n",
    "8. **Pull Requests:**\n",
    "   - Switch to the \"feature-branch.\"\n",
    "   - Create a new text file in the branch named \"new_feature.txt\" and add some content.\n",
    "   - Commit your changes on the \"feature-branch.\"\n",
    "   - Push your changes to the \"feature-branch.\"\n",
    "   - Create a pull request to merge the \"feature-branch\" into the main branch. Provide a description for the pull request.\n",
    "\n",
    "9. **Collaboration (Optional):**\n",
    "   - Invite a friend or classmate to collaborate on your \"GitHubAssignment\" repository. They can make changes to the repository, commit, and create pull requests.\n",
    "\n",
    "**Evaluation Criteria:**\n",
    "Your assignment will be evaluated based on the following criteria:\n",
    "\n",
    "- Successful completion of each step of the assignment.\n",
    "- Clarity and completeness of commit messages.\n",
    "- Proper branching and pull request creation.\n",
    "- Following best practices for collaboration (if collaborating with others).\n",
    "- Following the GitHub commands and concepts as explained in the tutorial.\n",
    "\n",
    "**Submission:**\n",
    "Once you have completed the assignment, share the URL of your \"GitHubAssignment\" repository with other students and conduct peer review.\n",
    "\n",
    "**Note:** This assignment is designed to test your practical understanding of GitHub fundamentals. Be sure to complete it independently to the best of your ability."
   ]
  },
  {
   "cell_type": "markdown",
   "id": "8a39a716",
   "metadata": {
    "hidden": true
   },
   "source": [
    "---"
   ]
  },
  {
   "cell_type": "markdown",
   "id": "1798709c",
   "metadata": {
    "heading_collapsed": true,
    "tags": []
   },
   "source": [
    "### 5. Industry Trivia <a name=\"Industry\"></a>"
   ]
  },
  {
   "cell_type": "markdown",
   "id": "1db31636",
   "metadata": {
    "heading_collapsed": true,
    "hidden": true
   },
   "source": [
    "#### Guess the use-case"
   ]
  },
  {
   "cell_type": "markdown",
   "id": "1df20680",
   "metadata": {
    "hidden": true
   },
   "source": [
    "There are 24 logos in this image, guess the use-case of the tool/service highlighted with the logos"
   ]
  },
  {
   "cell_type": "markdown",
   "id": "6a6f0111",
   "metadata": {
    "heading_collapsed": true,
    "hidden": true
   },
   "source": [
    "##### Show image"
   ]
  },
  {
   "cell_type": "code",
   "execution_count": null,
   "id": "1707d7df",
   "metadata": {
    "hidden": true
   },
   "outputs": [
    {
     "ename": "",
     "evalue": "",
     "output_type": "error",
     "traceback": [
      "\u001b[1;31mRunning cells with 'python-AsOK3w3S' requires the ipykernel package.\n",
      "\u001b[1;31mRun the following command to install 'ipykernel' into the Python environment. \n",
      "\u001b[1;31mCommand: 'c:/Users/nikit/.virtualenvs/python-AsOK3w3S/Scripts/python.exe -m pip install ipykernel -U --force-reinstall'"
     ]
    }
   ],
   "source": [
    "file='img/zenml.jpg'\n",
    "display(Image(filename=file, embed=True, width=800, height=800))"
   ]
  },
  {
   "cell_type": "markdown",
   "id": "a12b7bc7",
   "metadata": {
    "heading_collapsed": true,
    "hidden": true
   },
   "source": [
    "#### Industry tools"
   ]
  },
  {
   "cell_type": "code",
   "execution_count": null,
   "id": "d4b66a9a",
   "metadata": {
    "hidden": true
   },
   "outputs": [
    {
     "ename": "",
     "evalue": "",
     "output_type": "error",
     "traceback": [
      "\u001b[1;31mRunning cells with 'python-AsOK3w3S' requires the ipykernel package.\n",
      "\u001b[1;31mRun the following command to install 'ipykernel' into the Python environment. \n",
      "\u001b[1;31mCommand: 'c:/Users/nikit/.virtualenvs/python-AsOK3w3S/Scripts/python.exe -m pip install ipykernel -U --force-reinstall'"
     ]
    }
   ],
   "source": [
    "file='./img/Ops_tools_and_companies.jpg'\n",
    "display(Image(filename=file, embed=True, width=1000, height=1000))"
   ]
  },
  {
   "cell_type": "markdown",
   "id": "cc4171dc",
   "metadata": {
    "tags": []
   },
   "source": [
    "### 6. Next two weeks <a name=\"next-2-weeks\"></a>"
   ]
  },
  {
   "cell_type": "markdown",
   "id": "59bbc320",
   "metadata": {},
   "source": [
    "1. ML pipeline reproducibility, Versioning and Packaging\n",
    "    1. Project strcutures [CookieCutter](http://drivendata.github.io/cookiecutter-data-science/)\n",
    "    2. Data Registry [DVC](https://dvc.org/)\n",
    "    3. AWS Sagemaker pipelines and high level architecture for DS setup\n",
    "    \n",
    "2. End-to-End Lifecycle management\n",
    "    1. ML Model Registry [MLFlow](https://mlflow.org/)\n",
    "    2. ML experiments management and tracking [MLFlow](https://mlflow.org/)\n",
    "    3. End-to-End workflow with AWS Sagemaker\n"
   ]
  },
  {
   "cell_type": "markdown",
   "id": "33a3caa3",
   "metadata": {},
   "source": [
    "**See you next week!**"
   ]
  }
 ],
 "metadata": {
  "kernelspec": {
   "display_name": "Python 3 (ipykernel)",
   "language": "python",
   "name": "python3"
  },
  "language_info": {
   "codemirror_mode": {
    "name": "ipython",
    "version": 3
   },
   "file_extension": ".py",
   "mimetype": "text/x-python",
   "name": "python",
   "nbconvert_exporter": "python",
   "pygments_lexer": "ipython3",
   "version": "3.8.5"
  }
 },
 "nbformat": 4,
 "nbformat_minor": 5
}
